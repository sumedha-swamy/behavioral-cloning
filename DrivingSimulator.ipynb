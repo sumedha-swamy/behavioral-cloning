{
 "cells": [
  {
   "cell_type": "markdown",
   "metadata": {},
   "source": [
    "# Dataset"
   ]
  },
  {
   "cell_type": "markdown",
   "metadata": {},
   "source": [
    "Load the training data. "
   ]
  },
  {
   "cell_type": "code",
   "execution_count": 9,
   "metadata": {
    "collapsed": false
   },
   "outputs": [],
   "source": [
    "import csv\n",
    "import cv2\n",
    "import numpy as np\n",
    "import os\n",
    "from sklearn.model_selection import train_test_split\n",
    "from sklearn.utils import shuffle\n",
    "\n",
    "csv_file = \"trainingdata/driving_log.csv\"\n",
    "\n",
    "# Load the CSV file into samples[]\n",
    "samples = []\n",
    "with open(csv_file) as f:\n",
    "    reader = csv.reader(f)\n",
    "    for row in reader:\n",
    "        samples.append(row)\n",
    "\n",
    "# Split the data into training set and test set\n",
    "train_samples, validation_samples = train_test_split(samples, test_size=0.2)\n",
    "\n",
    "def get_file_name(full_path):\n",
    "    return (\"trainingdata/IMG/\" + full_path.split('/')[-1])\n",
    "\n",
    "def generator(samples, batch_size=32):\n",
    "    num_samples = (int(len(samples)/batch_size))*batch_size\n",
    "    correction = 0.2\n",
    "    while 1:\n",
    "        shuffle(samples)\n",
    "        for offset in range(0, num_samples, batch_size):\n",
    "            batch_samples = samples[offset:offset+batch_size]\n",
    "\n",
    "            images = []\n",
    "            angles = []\n",
    "            for batch_sample in batch_samples:\n",
    "                center_image = cv2.imread(get_file_name(batch_sample[0]))\n",
    "                center_angle = float(batch_sample[3])\n",
    "            \n",
    "                left_image = cv2.imread(get_file_name(batch_sample[1]))\n",
    "                left_angle = center_angle + correction\n",
    "            \n",
    "                right_image = cv2.imread(get_file_name(batch_sample[2]))\n",
    "                right_angle = center_angle - correction\n",
    "              \n",
    "                images.extend([center_image, left_image, right_image])\n",
    "                angles.extend([center_angle, left_angle, right_angle])\n",
    "                \n",
    "\n",
    "            X_train = np.array(images)\n",
    "            y_train = np.array(angles)\n",
    "            yield shuffle(X_train, y_train)"
   ]
  },
  {
   "cell_type": "markdown",
   "metadata": {},
   "source": [
    "Build a Model using Keras"
   ]
  },
  {
   "cell_type": "code",
   "execution_count": 10,
   "metadata": {
    "collapsed": false
   },
   "outputs": [],
   "source": [
    "from keras.models import Sequential\n",
    "from keras.layers.core import Dense, Activation, Flatten, Dropout\n",
    "from keras.layers import Lambda, Cropping2D\n",
    "from keras.layers.convolutional import Convolution2D\n",
    "\n",
    "#Create the Sequential model\n",
    "model = Sequential()\n",
    "model.add(Lambda(lambda x: (x / 255.0) - 0.5, input_shape=(160,320,3)))\n",
    "model.add(Cropping2D(cropping=((70,25), (0,0)), input_shape=(160,320,3)))\n",
    "model.add(Convolution2D(24, 5, 5, subsample=(2,2), activation=\"relu\"))\n",
    "model.add(Dropout(0.1))\n",
    "model.add(Convolution2D(36, 5, 5, subsample=(2,2), activation=\"relu\"))\n",
    "model.add(Convolution2D(48, 5, 5, subsample=(2,2), activation=\"relu\"))\n",
    "model.add(Convolution2D(64, 3, 3, activation=\"relu\"))\n",
    "model.add(Dropout(0.1))\n",
    "model.add(Convolution2D(64, 3, 3, activation=\"relu\"))\n",
    "model.add(Flatten())\n",
    "model.add(Dense(100))\n",
    "model.add(Dropout(0.1))\n",
    "model.add(Dense(50))\n",
    "model.add(Dense(10))\n",
    "model.add(Dense(1))\n",
    "\n",
    "model.compile(loss='mse', optimizer='adam')"
   ]
  },
  {
   "cell_type": "markdown",
   "metadata": {
    "collapsed": false
   },
   "source": [
    "Fit the model"
   ]
  },
  {
   "cell_type": "code",
   "execution_count": 11,
   "metadata": {
    "collapsed": false,
    "scrolled": true
   },
   "outputs": [
    {
     "name": "stdout",
     "output_type": "stream",
     "text": [
      "Epoch 1/7\n",
      "37344/37376 [============================>.] - ETA: 0s - loss: 0.1059"
     ]
    },
    {
     "name": "stderr",
     "output_type": "stream",
     "text": [
      "/home/carnd/anaconda3/envs/carnd-term1/lib/python3.5/site-packages/keras/engine/training.py:1527: UserWarning: Epoch comprised more than `samples_per_epoch` samples, which might affect learning results. Set `samples_per_epoch` correctly to avoid this warning.\n",
      "  warnings.warn('Epoch comprised more than '\n"
     ]
    },
    {
     "name": "stdout",
     "output_type": "stream",
     "text": [
      "37440/37376 [==============================] - 80s - loss: 0.1058 - val_loss: 0.0945\n",
      "Epoch 2/7\n",
      "37440/37376 [==============================] - 80s - loss: 0.0909 - val_loss: 0.0847\n",
      "Epoch 3/7\n",
      "37440/37376 [==============================] - 79s - loss: 0.0898 - val_loss: 0.0843\n",
      "Epoch 4/7\n",
      "37440/37376 [==============================] - 79s - loss: 0.0883 - val_loss: 0.0872\n",
      "Epoch 5/7\n",
      "37440/37376 [==============================] - 79s - loss: 0.0848 - val_loss: 0.0825\n",
      "Epoch 6/7\n",
      "37440/37376 [==============================] - 80s - loss: 0.0840 - val_loss: 0.0790\n",
      "Epoch 7/7\n",
      "37440/37376 [==============================] - 80s - loss: 0.0848 - val_loss: 0.0846\n",
      "Model saved\n"
     ]
    }
   ],
   "source": [
    "train_generator = generator(train_samples, batch_size=32)\n",
    "validation_generator = generator(validation_samples, batch_size=32)\n",
    "history_object = model.fit_generator(train_generator, samples_per_epoch= (int(len(train_samples)/32))*32,\n",
    "                                     validation_data=validation_generator,\n",
    "                                     nb_val_samples=len(validation_samples), \n",
    "                                     nb_epoch=7)\n",
    "\n",
    "model.save('model.h5')\n",
    "print(\"Model saved\")"
   ]
  },
  {
   "cell_type": "code",
   "execution_count": 12,
   "metadata": {
    "collapsed": false
   },
   "outputs": [
    {
     "name": "stdout",
     "output_type": "stream",
     "text": [
      "dict_keys(['loss', 'val_loss'])\n"
     ]
    },
    {
     "data": {
      "image/png": "[encoded data removed]",
      "text/plain": [
       "<matplotlib.figure.Figure at 0x7f639402b4a8>"
      ]
     },
     "metadata": {},
     "output_type": "display_data"
    }
   ],
   "source": [
    "print(history_object.history.keys())\n",
    "import matplotlib.pyplot as plt\n",
    "### plot the training and validation loss for each epoch\n",
    "plt.plot(history_object.history['loss'])\n",
    "plt.plot(history_object.history['val_loss'])\n",
    "plt.title('model mean squared error loss')\n",
    "plt.ylabel('mean squared error loss')\n",
    "plt.xlabel('epoch')\n",
    "plt.legend(['training set', 'validation set'], loc='upper right')\n",
    "plt.show()"
   ]
  },
  {
   "cell_type": "code",
   "execution_count": null,
   "metadata": {
    "collapsed": true
   },
   "outputs": [],
   "source": []
  }
 ],
 "metadata": {
  "anaconda-cloud": {},
  "kernelspec": {
   "display_name": "Python [default]",
   "language": "python",
   "name": "python3"
  },
  "language_info": {
   "codemirror_mode": {
    "name": "ipython",
    "version": 3
   },
   "file_extension": ".py",
   "mimetype": "text/x-python",
   "name": "python",
   "nbconvert_exporter": "python",
   "pygments_lexer": "ipython3",
   "version": "3.5.2"
  }
 },
 "nbformat": 4,
 "nbformat_minor": 0
}
